{
 "cells": [
  {
   "cell_type": "code",
   "execution_count": 18,
   "metadata": {},
   "outputs": [
    {
     "name": "stdout",
     "output_type": "stream",
     "text": [
      "<class 'int'>\n"
     ]
    }
   ],
   "source": [
    "i = 5\n",
    "print(type(i))"
   ]
  },
  {
   "cell_type": "code",
   "execution_count": 635,
   "metadata": {},
   "outputs": [
    {
     "name": "stdout",
     "output_type": "stream",
     "text": [
      "<class 'float'>\n"
     ]
    }
   ],
   "source": [
    "f = 3.6\n",
    "print(type(f))"
   ]
  },
  {
   "cell_type": "code",
   "execution_count": 19,
   "metadata": {},
   "outputs": [
    {
     "name": "stdout",
     "output_type": "stream",
     "text": [
      "<class 'str'>\n"
     ]
    }
   ],
   "source": [
    "s = \"python_review.ipynb\"\n",
    "print(type(s))"
   ]
  },
  {
   "cell_type": "code",
   "execution_count": 637,
   "metadata": {},
   "outputs": [
    {
     "name": "stdout",
     "output_type": "stream",
     "text": [
      "<class 'complex'>\n"
     ]
    }
   ],
   "source": [
    "c = 2+7j\n",
    "print(type(c))"
   ]
  },
  {
   "cell_type": "code",
   "execution_count": 638,
   "metadata": {},
   "outputs": [
    {
     "name": "stdout",
     "output_type": "stream",
     "text": [
      "<class 'bool'>\n"
     ]
    }
   ],
   "source": [
    "b = False\n",
    "print(type(b))"
   ]
  },
  {
   "cell_type": "code",
   "execution_count": 639,
   "metadata": {},
   "outputs": [
    {
     "name": "stdout",
     "output_type": "stream",
     "text": [
      "True\n"
     ]
    }
   ],
   "source": [
    "print('a2'.isidentifier())"
   ]
  },
  {
   "cell_type": "code",
   "execution_count": 640,
   "metadata": {},
   "outputs": [
    {
     "name": "stdout",
     "output_type": "stream",
     "text": [
      "False\n"
     ]
    }
   ],
   "source": [
    "print('2a'.isidentifier())"
   ]
  },
  {
   "cell_type": "code",
   "execution_count": 641,
   "metadata": {},
   "outputs": [
    {
     "name": "stdout",
     "output_type": "stream",
     "text": [
      "True\n"
     ]
    }
   ],
   "source": [
    "print('_var'.isidentifier())"
   ]
  },
  {
   "cell_type": "code",
   "execution_count": 642,
   "metadata": {},
   "outputs": [
    {
     "name": "stdout",
     "output_type": "stream",
     "text": [
      "True\n"
     ]
    }
   ],
   "source": [
    "print('my_var'.isidentifier())"
   ]
  },
  {
   "cell_type": "code",
   "execution_count": 643,
   "metadata": {},
   "outputs": [
    {
     "name": "stdout",
     "output_type": "stream",
     "text": [
      "False\n"
     ]
    }
   ],
   "source": [
    "print('my$'.isidentifier())"
   ]
  },
  {
   "cell_type": "code",
   "execution_count": 644,
   "metadata": {},
   "outputs": [
    {
     "name": "stdout",
     "output_type": "stream",
     "text": [
      "True\n"
     ]
    }
   ],
   "source": [
    "from keyword import iskeyword\n",
    "print(iskeyword('if'))"
   ]
  },
  {
   "cell_type": "markdown",
   "metadata": {},
   "source": [
    "## Python Casting"
   ]
  },
  {
   "cell_type": "code",
   "execution_count": 645,
   "metadata": {},
   "outputs": [
    {
     "name": "stdout",
     "output_type": "stream",
     "text": [
      "4.0 <class 'float'>\n"
     ]
    }
   ],
   "source": [
    "i = 4\n",
    "print(float(4), type(float(4)))"
   ]
  },
  {
   "cell_type": "code",
   "execution_count": 646,
   "metadata": {},
   "outputs": [
    {
     "name": "stdout",
     "output_type": "stream",
     "text": [
      "16 <class 'int'>\n"
     ]
    }
   ],
   "source": [
    "a = '15'\n",
    "print(int(a)+ 1 , type(int(a)))"
   ]
  },
  {
   "cell_type": "code",
   "execution_count": 647,
   "metadata": {},
   "outputs": [
    {
     "name": "stdout",
     "output_type": "stream",
     "text": [
      "x = 8 and y = 4\n"
     ]
    }
   ],
   "source": [
    "x = 4\n",
    "y = 8\n",
    "y, x = x, y\n",
    "print('x = %d and y = %d' % (x, y))"
   ]
  },
  {
   "cell_type": "code",
   "execution_count": 648,
   "metadata": {},
   "outputs": [
    {
     "name": "stdout",
     "output_type": "stream",
     "text": [
      "a = 2 and b = 3\n"
     ]
    }
   ],
   "source": [
    "a = 1\n",
    "b = 2\n",
    "a, b = b, a + b\n",
    "print(f'a = {a} and b = {b}')"
   ]
  },
  {
   "cell_type": "code",
   "execution_count": 1,
   "metadata": {},
   "outputs": [
    {
     "data": {
      "text/plain": [
       "'\\nOperators :\\n    Arithmetic : +,-,*,/,%,**,//   \\n    Assignment : =,+=,-=,*= ,/= ,%= ,//= ,**= \\n    Comparison : ==,!=,>,<,>=,<=\\n    Logical    : and, or, not\\n    Membership : in , not in\\n    Bitwise    :  &, |, ^, ~, <<, >>\\n'"
      ]
     },
     "execution_count": 1,
     "metadata": {},
     "output_type": "execute_result"
    }
   ],
   "source": [
    "###################################################################\n",
    "# Operators :\n",
    "\n",
    "'''\n",
    "Operators :\n",
    "    Arithmetic : +,-,*,/,%,**,//   \n",
    "    Assignment : =,+=,-=,*= ,/= ,%= ,//= ,**= \n",
    "    Comparison : ==,!=,>,<,>=,<=\n",
    "    Logical    : and, or, not\n",
    "    Membership : in , not in\n",
    "    Bitwise    :  &, |, ^, ~, <<, >>\n",
    "'''"
   ]
  },
  {
   "cell_type": "code",
   "execution_count": 649,
   "metadata": {},
   "outputs": [
    {
     "name": "stdout",
     "output_type": "stream",
     "text": [
      "8.5\n",
      "8\n",
      "1\n",
      "9\n"
     ]
    }
   ],
   "source": [
    "print(17/ 2)\n",
    "print(17// 2)\n",
    "print(17 % 2)\n",
    "print(3**2)"
   ]
  },
  {
   "cell_type": "code",
   "execution_count": 650,
   "metadata": {},
   "outputs": [
    {
     "name": "stdout",
     "output_type": "stream",
     "text": [
      "2\n"
     ]
    }
   ],
   "source": [
    "y = 4\n",
    "y//= 2\n",
    "print(y)"
   ]
  },
  {
   "cell_type": "code",
   "execution_count": 651,
   "metadata": {},
   "outputs": [
    {
     "name": "stdout",
     "output_type": "stream",
     "text": [
      "True\n"
     ]
    }
   ],
   "source": [
    "print(2 != 3)"
   ]
  },
  {
   "cell_type": "code",
   "execution_count": 652,
   "metadata": {},
   "outputs": [
    {
     "name": "stdout",
     "output_type": "stream",
     "text": [
      "False\n"
     ]
    }
   ],
   "source": [
    "print(1<3 and 4>5)"
   ]
  },
  {
   "cell_type": "code",
   "execution_count": 653,
   "metadata": {},
   "outputs": [
    {
     "name": "stdout",
     "output_type": "stream",
     "text": [
      "0b10100\n"
     ]
    }
   ],
   "source": [
    "a = 20\n",
    "print(bin(a))"
   ]
  },
  {
   "cell_type": "code",
   "execution_count": 654,
   "metadata": {},
   "outputs": [
    {
     "name": "stdout",
     "output_type": "stream",
     "text": [
      "0b1001\n"
     ]
    }
   ],
   "source": [
    "b = 9\n",
    "print(bin(b))"
   ]
  },
  {
   "cell_type": "code",
   "execution_count": 655,
   "metadata": {},
   "outputs": [
    {
     "name": "stdout",
     "output_type": "stream",
     "text": [
      "0b11101\n",
      "29\n"
     ]
    }
   ],
   "source": [
    "c = a|b\n",
    "print(bin(c))\n",
    "print(a|b)"
   ]
  },
  {
   "cell_type": "markdown",
   "metadata": {},
   "source": [
    "## Math"
   ]
  },
  {
   "cell_type": "code",
   "execution_count": 656,
   "metadata": {},
   "outputs": [
    {
     "name": "stdout",
     "output_type": "stream",
     "text": [
      "4.0\n",
      "4\n",
      "6\n",
      "3.0\n",
      "1.0\n",
      "5.0\n",
      "16.0\n",
      "3.141592653589793\n"
     ]
    }
   ],
   "source": [
    "import math\n",
    "print(math.sqrt(16))\n",
    "print(math.trunc(4.7))\n",
    "print(math.factorial(3))\n",
    "print(math.log2(8))\n",
    "print(math.fmod(17, 2))\n",
    "print(math.fabs(-5))\n",
    "print(math.pow(2, 4))\n",
    "print(math.pi)\n"
   ]
  },
  {
   "cell_type": "markdown",
   "metadata": {},
   "source": [
    "## random package"
   ]
  },
  {
   "cell_type": "code",
   "execution_count": 20,
   "metadata": {},
   "outputs": [
    {
     "name": "stdout",
     "output_type": "stream",
     "text": [
      "6\n",
      "1\n"
     ]
    }
   ],
   "source": [
    "import random\n",
    "print(random.randint(1,10))\n",
    "print(random.choice([1, 10]))"
   ]
  },
  {
   "cell_type": "markdown",
   "metadata": {},
   "source": [
    "## datetime package"
   ]
  },
  {
   "cell_type": "code",
   "execution_count": 21,
   "metadata": {},
   "outputs": [
    {
     "name": "stdout",
     "output_type": "stream",
     "text": [
      "2021-12-21 09:11:26.041959\n"
     ]
    }
   ],
   "source": [
    "import datetime\n",
    "print(datetime.datetime.now())"
   ]
  },
  {
   "cell_type": "code",
   "execution_count": 2,
   "metadata": {},
   "outputs": [
    {
     "data": {
      "text/plain": [
       "'\\nControl statements:\\n    if\\n    if else\\n    elif\\n'"
      ]
     },
     "execution_count": 2,
     "metadata": {},
     "output_type": "execute_result"
    }
   ],
   "source": [
    "###################################################################\n",
    "\n",
    "'''\n",
    "Control statements:\n",
    "    if\n",
    "    if else\n",
    "    if elif\n",
    "'''"
   ]
  },
  {
   "cell_type": "code",
   "execution_count": 3,
   "metadata": {},
   "outputs": [
    {
     "name": "stdout",
     "output_type": "stream",
     "text": [
      "3.0\n"
     ]
    }
   ],
   "source": [
    "import math\n",
    "n = -9\n",
    "if n < 0 :\n",
    "   n = abs(n)\n",
    "   \n",
    "print(math.sqrt(n))        # 3.0"
   ]
  },
  {
   "cell_type": "code",
   "execution_count": 659,
   "metadata": {},
   "outputs": [
    {
     "name": "stdout",
     "output_type": "stream",
     "text": [
      "3\n"
     ]
    }
   ],
   "source": [
    "a = 3\n",
    "b = 8\n",
    "if a<b: \n",
    "    m = a\n",
    "else:\n",
    "    m = b\n",
    "    \n",
    "print(m)"
   ]
  },
  {
   "cell_type": "code",
   "execution_count": 660,
   "metadata": {},
   "outputs": [
    {
     "name": "stdout",
     "output_type": "stream",
     "text": [
      "3\n"
     ]
    }
   ],
   "source": [
    "# 'conditional expression'\n",
    "m = a if a<b else b\n",
    "print(m)"
   ]
  },
  {
   "cell_type": "code",
   "execution_count": 4,
   "metadata": {},
   "outputs": [
    {
     "name": "stdout",
     "output_type": "stream",
     "text": [
      "watch TV\n"
     ]
    }
   ],
   "source": [
    "today = 'holiday'\n",
    "b = 40\n",
    "\n",
    "if today == 'holiday':\n",
    "   if b > 50:\n",
    "       print('shopping')\n",
    "   else:\n",
    "       print('watch TV')               # watch TV\n",
    "else:\n",
    "    print('normal working day')\n"
   ]
  },
  {
   "cell_type": "code",
   "execution_count": 5,
   "metadata": {},
   "outputs": [
    {
     "data": {
      "text/plain": [
       "'\\n    loop : \\n          for \\n          while\\n'"
      ]
     },
     "execution_count": 5,
     "metadata": {},
     "output_type": "execute_result"
    }
   ],
   "source": [
    "\"\"\"\n",
    "    loop : \n",
    "          for \n",
    "          while\n",
    "\"\"\""
   ]
  },
  {
   "cell_type": "code",
   "execution_count": 23,
   "metadata": {},
   "outputs": [
    {
     "name": "stdout",
     "output_type": "stream",
     "text": [
      "0, 1, 2, "
     ]
    }
   ],
   "source": [
    "for i in range(3):\n",
    "    print(i, end = ', ')"
   ]
  },
  {
   "cell_type": "code",
   "execution_count": 662,
   "metadata": {},
   "outputs": [
    {
     "name": "stdout",
     "output_type": "stream",
     "text": [
      "hello\n",
      "hello\n",
      "hello\n"
     ]
    }
   ],
   "source": [
    "for _ in range(3):\n",
    "    print('hello')"
   ]
  },
  {
   "cell_type": "code",
   "execution_count": 663,
   "metadata": {},
   "outputs": [
    {
     "name": "stdout",
     "output_type": "stream",
     "text": [
      "6, 8, 10, "
     ]
    }
   ],
   "source": [
    "for i in range(6, 11, 2):\n",
    "    print(i, end = ', ')"
   ]
  },
  {
   "cell_type": "code",
   "execution_count": 664,
   "metadata": {},
   "outputs": [
    {
     "name": "stdout",
     "output_type": "stream",
     "text": [
      "1 \n",
      "1 2 \n",
      "1 2 3 \n"
     ]
    }
   ],
   "source": [
    "for i in range(2, 5):\n",
    "    for j in range(1, i):\n",
    "        print(j, end=' ')\n",
    "    print()"
   ]
  },
  {
   "cell_type": "markdown",
   "metadata": {},
   "source": [
    "## string methods"
   ]
  },
  {
   "cell_type": "code",
   "execution_count": 9,
   "metadata": {},
   "outputs": [],
   "source": [
    "s = 'python'"
   ]
  },
  {
   "cell_type": "code",
   "execution_count": 10,
   "metadata": {},
   "outputs": [
    {
     "name": "stdout",
     "output_type": "stream",
     "text": [
      "6\n",
      "True\n",
      "True\n",
      "True\n",
      "False\n",
      "4\n",
      "1\n",
      "Python\n",
      "PYTHON\n",
      "python***\n",
      "True\n",
      "pyramid\n"
     ]
    }
   ],
   "source": [
    "print(len(s))\n",
    "print('th' in s)\n",
    "print(s.islower())\n",
    "print(s.isalpha())\n",
    "print(s.isdigit())\n",
    "print(s.find('o'))\n",
    "print(s.count('o'))\n",
    "print(s.title())\n",
    "print(s.upper())\n",
    "print(s.ljust(9, '*'))\n",
    "print(s.startswith('py'))\n",
    "print(s.replace('thon', 'ramid'))"
   ]
  },
  {
   "cell_type": "code",
   "execution_count": 667,
   "metadata": {},
   "outputs": [
    {
     "name": "stdout",
     "output_type": "stream",
     "text": [
      "python\n",
      "python$$\n",
      "$python\n"
     ]
    }
   ],
   "source": [
    "s = '$python$$'\n",
    "print(s.strip('$'))\n",
    "print(s.lstrip('$'))\n",
    "print(s.rstrip('$'))"
   ]
  },
  {
   "cell_type": "code",
   "execution_count": 668,
   "metadata": {},
   "outputs": [
    {
     "name": "stdout",
     "output_type": "stream",
     "text": [
      "['Python', 'created', 'by', 'Rossum']\n"
     ]
    }
   ],
   "source": [
    "s = 'Python created by Rossum'\n",
    "print(s.split(' '))"
   ]
  },
  {
   "cell_type": "code",
   "execution_count": 13,
   "metadata": {},
   "outputs": [
    {
     "name": "stdout",
     "output_type": "stream",
     "text": [
      "['1', '2', '3', '4', '5']\n",
      "[1, 2, 3, 4, 5]\n"
     ]
    }
   ],
   "source": [
    "l = '1,2,3,4,5'\n",
    "print(l.split(','))\n",
    "print([int(element) for element in l.split(',')])"
   ]
  },
  {
   "cell_type": "code",
   "execution_count": 670,
   "metadata": {},
   "outputs": [
    {
     "name": "stdout",
     "output_type": "stream",
     "text": [
      "Python created by Rossum\n"
     ]
    }
   ],
   "source": [
    "b = ['Python', 'created', 'by', 'Rossum']\n",
    "c = ' '.join(b)\n",
    "print(c)"
   ]
  },
  {
   "cell_type": "code",
   "execution_count": 671,
   "metadata": {},
   "outputs": [
    {
     "name": "stdout",
     "output_type": "stream",
     "text": [
      "name: python\n",
      "name: python\n",
      "name: python\n",
      "name: python\n"
     ]
    }
   ],
   "source": [
    "s = 'python'\n",
    "print(f'name: {s}')\n",
    "print('name: {}'.format(s))\n",
    "print('name: %s' % (s))\n",
    "print('name:', s)"
   ]
  },
  {
   "cell_type": "code",
   "execution_count": 672,
   "metadata": {},
   "outputs": [
    {
     "name": "stdout",
     "output_type": "stream",
     "text": [
      "name: ehsan, last name: khodapanah\n"
     ]
    }
   ],
   "source": [
    "a = 'ehsan'\n",
    "b = 'khodapanah'\n",
    "print('name: {0}, last name: {1}'.format(a, b))"
   ]
  },
  {
   "cell_type": "code",
   "execution_count": 25,
   "metadata": {},
   "outputs": [
    {
     "name": "stdout",
     "output_type": "stream",
     "text": [
      " 34  2.5\n"
     ]
    }
   ],
   "source": [
    "a = 34\n",
    "b = 2.45\n",
    "print('{:3d} {:4.1f}'.format(a, b))"
   ]
  },
  {
   "cell_type": "code",
   "execution_count": 16,
   "metadata": {},
   "outputs": [
    {
     "data": {
      "text/plain": [
       "\"\\n    list\\n    'index' ,'count','insert','remove','pop','reverse' , 'sort' ,'extend'\\n    , 'append','clear','copy',...\\n    \\n\""
      ]
     },
     "execution_count": 16,
     "metadata": {},
     "output_type": "execute_result"
    }
   ],
   "source": [
    "\"\"\"\n",
    "    list\n",
    "    'index' ,'count','insert','remove','pop','reverse' , 'sort' ,'extend'\n",
    "    , 'append','clear','copy',...\n",
    "    \n",
    "\"\"\""
   ]
  },
  {
   "cell_type": "code",
   "execution_count": 674,
   "metadata": {},
   "outputs": [
    {
     "name": "stdout",
     "output_type": "stream",
     "text": [
      "<class 'list'>\n",
      "3\n",
      "1\n",
      "2\n",
      "[8, 7, 12]\n"
     ]
    }
   ],
   "source": [
    "a = [8, 2, 12]\n",
    "print(type(a))\n",
    "print(len(a))\n",
    "print(a.index(2))\n",
    "print(a[1])\n",
    "a[1] = 7\n",
    "print(a)"
   ]
  },
  {
   "cell_type": "code",
   "execution_count": 26,
   "metadata": {},
   "outputs": [
    {
     "name": "stdout",
     "output_type": "stream",
     "text": [
      "[5, 39, 8]\n",
      "[13, 5, 39]\n",
      "[8, 6, 56]\n",
      "[56, 6, 8, 39, 5, 13]\n",
      "[13, 39, 6]\n",
      "[]\n"
     ]
    }
   ],
   "source": [
    "a = [13, 5, 39, 8, 6, 56]\n",
    "print(a[1:4])\n",
    "print(a[:3])\n",
    "print(a[3:])\n",
    "print(a[::-1])\n",
    "print(a[:7:2])\n",
    "print(a[-1:1])"
   ]
  },
  {
   "cell_type": "code",
   "execution_count": 676,
   "metadata": {},
   "outputs": [
    {
     "name": "stdout",
     "output_type": "stream",
     "text": [
      "['saed', 'ehsan']\n",
      "['saed', 'ehsan']\n",
      "saed\n",
      "ehsan\n"
     ]
    }
   ],
   "source": [
    "child = ['saeed', 'ehsan']\n",
    "for i in child:\n",
    "    print(child)\n",
    "    \n",
    "# or\n",
    "for i in range(len(child)):\n",
    "    print(child[i])"
   ]
  },
  {
   "cell_type": "code",
   "execution_count": 677,
   "metadata": {},
   "outputs": [
    {
     "name": "stdout",
     "output_type": "stream",
     "text": [
      "[2, 3, 2, 3]\n"
     ]
    }
   ],
   "source": [
    "a = [2, 3]\n",
    "b = 2*a\n",
    "print(b)"
   ]
  },
  {
   "cell_type": "code",
   "execution_count": 678,
   "metadata": {},
   "outputs": [
    {
     "data": {
      "text/plain": [
       "[4, 10, 12, 38]"
      ]
     },
     "execution_count": 678,
     "metadata": {},
     "output_type": "execute_result"
    }
   ],
   "source": [
    "a = [2, 5, 6, 19]\n",
    "[x*2 for x in a]"
   ]
  },
  {
   "cell_type": "code",
   "execution_count": 679,
   "metadata": {},
   "outputs": [
    {
     "name": "stdout",
     "output_type": "stream",
     "text": [
      "[1, 2, 3, 'a', 'b']\n"
     ]
    }
   ],
   "source": [
    "a = [1, 2, 3]\n",
    "b = ['a', 'b']\n",
    "c = a+b\n",
    "print(c)"
   ]
  },
  {
   "cell_type": "code",
   "execution_count": 680,
   "metadata": {},
   "outputs": [
    {
     "name": "stdout",
     "output_type": "stream",
     "text": [
      "37\n",
      "5\n",
      "63\n",
      "1\n"
     ]
    }
   ],
   "source": [
    "a = [15, 5, 6, 37]\n",
    "print(max(a))\n",
    "print(min(a))\n",
    "print(sum(a))\n",
    "print(a.count(5))"
   ]
  },
  {
   "cell_type": "code",
   "execution_count": 681,
   "metadata": {},
   "outputs": [
    {
     "name": "stdout",
     "output_type": "stream",
     "text": [
      "[15, 5, 8, 6, 37]\n",
      "[15, 5, 8, 6, ['ehsan'], 37]\n"
     ]
    }
   ],
   "source": [
    "a.insert(2, 8)\n",
    "print(a)\n",
    "a.insert(-1, ['ehsan'])\n",
    "print(a)"
   ]
  },
  {
   "cell_type": "code",
   "execution_count": 682,
   "metadata": {},
   "outputs": [
    {
     "data": {
      "text/plain": [
       "37"
      ]
     },
     "execution_count": 682,
     "metadata": {},
     "output_type": "execute_result"
    }
   ],
   "source": [
    "a[-1]"
   ]
  },
  {
   "cell_type": "code",
   "execution_count": 683,
   "metadata": {},
   "outputs": [
    {
     "name": "stdout",
     "output_type": "stream",
     "text": [
      "[15, 5, 8, 6, ['ehsan'], 37, 3]\n"
     ]
    }
   ],
   "source": [
    "a.append(3)\n",
    "print(a)"
   ]
  },
  {
   "cell_type": "code",
   "execution_count": 684,
   "metadata": {},
   "outputs": [
    {
     "name": "stdout",
     "output_type": "stream",
     "text": [
      "[15, 5, 8, 6, ['ehsan'], 3]\n"
     ]
    }
   ],
   "source": [
    "a.remove(37)\n",
    "print(a)"
   ]
  },
  {
   "cell_type": "code",
   "execution_count": 27,
   "metadata": {},
   "outputs": [
    {
     "name": "stdout",
     "output_type": "stream",
     "text": [
      "56\n",
      "[13, 5, 39, 8, 6]\n",
      "5\n",
      "[13, 39, 8, 6]\n"
     ]
    }
   ],
   "source": [
    "print(a.pop())\n",
    "print(a)\n",
    "print(a.pop(1))\n",
    "print(a)"
   ]
  },
  {
   "cell_type": "code",
   "execution_count": 686,
   "metadata": {},
   "outputs": [
    {
     "name": "stdout",
     "output_type": "stream",
     "text": [
      "[15, 6, ['ehsan']]\n"
     ]
    }
   ],
   "source": [
    "del a[1]\n",
    "print(a)"
   ]
  },
  {
   "cell_type": "code",
   "execution_count": 18,
   "metadata": {},
   "outputs": [
    {
     "name": "stdout",
     "output_type": "stream",
     "text": [
      "[4, 5, 7, 3]\n",
      "[3, 7, 5, 4]\n",
      "<list_reverseiterator object at 0x00000153A1A0AE80>\n"
     ]
    },
    {
     "data": {
      "text/plain": [
       "list_reverseiterator"
      ]
     },
     "execution_count": 18,
     "metadata": {},
     "output_type": "execute_result"
    }
   ],
   "source": [
    "a = [3, 7, 5, 4]\n",
    "a.reverse()\n",
    "print(a)\n",
    "\n",
    "print(reversed(a))\n",
    "type(reversed(a))\n",
    "print(list(reversed(a)))"
   ]
  },
  {
   "cell_type": "code",
   "execution_count": 688,
   "metadata": {},
   "outputs": [
    {
     "name": "stdout",
     "output_type": "stream",
     "text": [
      "[3, 4, 5, 7]\n"
     ]
    }
   ],
   "source": [
    "a.sort()\n",
    "print(a)"
   ]
  },
  {
   "cell_type": "code",
   "execution_count": 3,
   "metadata": {},
   "outputs": [
    {
     "name": "stdout",
     "output_type": "stream",
     "text": [
      "None\n",
      "[3, 4, 5, 7]\n",
      "[7, 5, 4, 3]\n"
     ]
    }
   ],
   "source": [
    "a = [3, 7, 5, 4]\n",
    "print(a.sort())\n",
    "print(a)\n",
    "a.sort(reverse = True)\n",
    "print(a)"
   ]
  },
  {
   "cell_type": "code",
   "execution_count": 6,
   "metadata": {},
   "outputs": [
    {
     "name": "stdout",
     "output_type": "stream",
     "text": [
      "[1, 2, ['a', 'b']]\n",
      "3\n",
      "<class 'tuple'>\n",
      "None\n"
     ]
    },
    {
     "data": {
      "text/plain": [
       "[1, 2, ['a', 'b'], (2, 4)]"
      ]
     },
     "execution_count": 6,
     "metadata": {},
     "output_type": "execute_result"
    }
   ],
   "source": [
    "x = [1, 2]\n",
    "y = ['a', 'b']\n",
    "x.append(y)\n",
    "print(x)\n",
    "print(len(x))\n",
    "z = (2, 4)\n",
    "print(type(z))\n",
    "print(x.append(z))\n",
    "x"
   ]
  },
  {
   "cell_type": "code",
   "execution_count": 691,
   "metadata": {},
   "outputs": [
    {
     "name": "stdout",
     "output_type": "stream",
     "text": [
      "[1, 2, 'a', 'b']\n",
      "4\n"
     ]
    }
   ],
   "source": [
    "x = [1, 2]\n",
    "y = ['a', 'b']\n",
    "x.extend(y)\n",
    "print(x)\n",
    "print(len(x))"
   ]
  },
  {
   "cell_type": "code",
   "execution_count": 692,
   "metadata": {},
   "outputs": [
    {
     "name": "stdout",
     "output_type": "stream",
     "text": [
      "[]\n",
      "0\n"
     ]
    }
   ],
   "source": [
    "a = [1, 2, 3, 4, 5, 6, 7, 8, 9]\n",
    "a.clear()\n",
    "print(a)\n",
    "print(len(a))"
   ]
  },
  {
   "cell_type": "code",
   "execution_count": 693,
   "metadata": {},
   "outputs": [
    {
     "name": "stdout",
     "output_type": "stream",
     "text": [
      "[1, 2, 3]\n"
     ]
    }
   ],
   "source": [
    "a = [1, 2, 3]\n",
    "b = a.copy()\n",
    "print(b)"
   ]
  },
  {
   "cell_type": "code",
   "execution_count": 694,
   "metadata": {},
   "outputs": [
    {
     "name": "stdout",
     "output_type": "stream",
     "text": [
      "[0, 1, 2]\n"
     ]
    }
   ],
   "source": [
    "a = []\n",
    "for i in range(3):\n",
    "    a.append(i)\n",
    "print(a)\n"
   ]
  },
  {
   "cell_type": "code",
   "execution_count": 695,
   "metadata": {},
   "outputs": [
    {
     "name": "stdout",
     "output_type": "stream",
     "text": [
      "[0, 1, 2]\n"
     ]
    }
   ],
   "source": [
    "a = [i for i in range(3)]\n",
    "print(a)"
   ]
  },
  {
   "cell_type": "code",
   "execution_count": 696,
   "metadata": {},
   "outputs": [
    {
     "name": "stdout",
     "output_type": "stream",
     "text": [
      "[18, 20]\n"
     ]
    }
   ],
   "source": [
    "grade = [18, 20, 5, 4, 7]\n",
    "a = [i for i in grade if i>10]\n",
    "print(a)"
   ]
  },
  {
   "cell_type": "code",
   "execution_count": 697,
   "metadata": {},
   "outputs": [
    {
     "name": "stdout",
     "output_type": "stream",
     "text": [
      "[18, 20]\n"
     ]
    }
   ],
   "source": [
    "grade = [18, 20, 5, 4, 7]\n",
    "a = []\n",
    "for i in grade:\n",
    "    if i > 10:\n",
    "        a.append(i)\n",
    "print(a)"
   ]
  },
  {
   "cell_type": "markdown",
   "metadata": {},
   "source": [
    "## Tuple:\n",
    "len, index, sum, min, max, count, ..."
   ]
  },
  {
   "cell_type": "code",
   "execution_count": 7,
   "metadata": {},
   "outputs": [
    {
     "name": "stdout",
     "output_type": "stream",
     "text": [
      "<class 'tuple'>\n",
      "3\n"
     ]
    }
   ],
   "source": [
    "t = ('English', 'Art', 'Mathematics')\n",
    "print(type(t))\n",
    "print(len(t))"
   ]
  },
  {
   "cell_type": "code",
   "execution_count": 699,
   "metadata": {},
   "outputs": [
    {
     "name": "stdout",
     "output_type": "stream",
     "text": [
      "Art\n",
      "('Art', 'Mathematic')\n",
      "1\n",
      "True\n",
      "Tuples are immutable.\n"
     ]
    }
   ],
   "source": [
    "print(t[1])\n",
    "print(t[1:3])\n",
    "\n",
    "print(t.index('Art'))\n",
    "print('Art' in t)\n",
    "\n",
    "\n",
    "try:\n",
    "    t[0] = 'History'\n",
    "except TypeError:\n",
    "    print('Tuples are immutable.')\n",
    "\n",
    "# t[0] = 'History'"
   ]
  },
  {
   "cell_type": "code",
   "execution_count": 10,
   "metadata": {},
   "outputs": [
    {
     "name": "stdout",
     "output_type": "stream",
     "text": [
      "13\n",
      "7\n",
      "1\n",
      "0\n"
     ]
    }
   ],
   "source": [
    "t = (1, 7, 5)\n",
    "print(sum(t))\n",
    "print(max(t))\n",
    "print(min(t))\n",
    "print(t.count(9))"
   ]
  },
  {
   "cell_type": "code",
   "execution_count": 701,
   "metadata": {},
   "outputs": [
    {
     "name": "stdout",
     "output_type": "stream",
     "text": [
      "(5, 7, 1)\n"
     ]
    }
   ],
   "source": [
    "print(tuple(reversed(t)))"
   ]
  },
  {
   "cell_type": "code",
   "execution_count": 702,
   "metadata": {},
   "outputs": [
    {
     "name": "stdout",
     "output_type": "stream",
     "text": [
      "(1, 2, 3)\n"
     ]
    }
   ],
   "source": [
    "t = (1, 2)\n",
    "a = list(t)\n",
    "a.append(3)\n",
    "t = tuple(a)\n",
    "print(t)"
   ]
  },
  {
   "cell_type": "code",
   "execution_count": 703,
   "metadata": {},
   "outputs": [
    {
     "name": "stdout",
     "output_type": "stream",
     "text": [
      "(14, 7, 9)\n"
     ]
    }
   ],
   "source": [
    "t = (14, 7, 9 , 3)\n",
    "a = list(t)\n",
    "a.remove(3)\n",
    "t = tuple(a)\n",
    "print(t)"
   ]
  },
  {
   "cell_type": "code",
   "execution_count": 704,
   "metadata": {},
   "outputs": [
    {
     "name": "stdout",
     "output_type": "stream",
     "text": [
      "red 8\n"
     ]
    }
   ],
   "source": [
    "# unpack\n",
    "t = ('red', 8)\n",
    "x, y = t\n",
    "print(x, y)"
   ]
  },
  {
   "cell_type": "code",
   "execution_count": 705,
   "metadata": {},
   "outputs": [
    {
     "name": "stdout",
     "output_type": "stream",
     "text": [
      "[(1, 'x'), (2, 'y')]\n"
     ]
    }
   ],
   "source": [
    "a = (1, 2)\n",
    "b = ('x', 'y')\n",
    "print(list(zip(a,b)))"
   ]
  },
  {
   "cell_type": "code",
   "execution_count": 706,
   "metadata": {},
   "outputs": [
    {
     "name": "stdout",
     "output_type": "stream",
     "text": [
      "[(1, 2), ('x', 'y')]\n"
     ]
    }
   ],
   "source": [
    "x = [(1, 'x'), (2, 'y')]\n",
    "u = zip(*x)\n",
    "print(list(u))"
   ]
  },
  {
   "cell_type": "markdown",
   "metadata": {},
   "source": [
    "## Dictionary:\n",
    "len, get, keys, values, items, pop, popitems, ..."
   ]
  },
  {
   "cell_type": "code",
   "execution_count": 707,
   "metadata": {},
   "outputs": [],
   "source": [
    "d = {\n",
    "    'brand': 'b',\n",
    "    'model': 'm',\n",
    "    'color': 'red',\n",
    "    'year': 2020\n",
    "}\n",
    "\n",
    "e = dict(brand = 'b', model = 'm', color = 'red', year =2020)"
   ]
  },
  {
   "cell_type": "code",
   "execution_count": 708,
   "metadata": {},
   "outputs": [
    {
     "name": "stdout",
     "output_type": "stream",
     "text": [
      "{'brand': 'b', 'model': 'm', 'color': 'red', 'year': 2020}\n",
      "{'brand': 'b', 'model': 'm', 'color': 'red', 'year': 2020}\n"
     ]
    }
   ],
   "source": [
    "print(d)\n",
    "print(e)"
   ]
  },
  {
   "cell_type": "code",
   "execution_count": 11,
   "metadata": {},
   "outputs": [
    {
     "name": "stdout",
     "output_type": "stream",
     "text": [
      "<class 'dict'>\n",
      "4\n",
      "7\n",
      "9\n"
     ]
    }
   ],
   "source": [
    "d = dict(x = 14, y = 7, z = 32, w = 9)\n",
    "print(type(d))\n",
    "print(len(d))\n",
    "print(d['y'])\n",
    "print(d.get('w'))"
   ]
  },
  {
   "cell_type": "code",
   "execution_count": 710,
   "metadata": {},
   "outputs": [
    {
     "name": "stdout",
     "output_type": "stream",
     "text": [
      "['x', 'y', 'z', 'w']\n"
     ]
    }
   ],
   "source": [
    "print(list(d.keys()))"
   ]
  },
  {
   "cell_type": "code",
   "execution_count": 13,
   "metadata": {},
   "outputs": [
    {
     "name": "stdout",
     "output_type": "stream",
     "text": [
      "[14, 7, 32, 9]\n"
     ]
    }
   ],
   "source": [
    "print(list(d.values()))"
   ]
  },
  {
   "cell_type": "code",
   "execution_count": 712,
   "metadata": {},
   "outputs": [
    {
     "name": "stdout",
     "output_type": "stream",
     "text": [
      "[('x', 14), ('y', 7), ('z', 32), ('w', 9)]\n"
     ]
    }
   ],
   "source": [
    "print(list(d.items()))"
   ]
  },
  {
   "cell_type": "code",
   "execution_count": 713,
   "metadata": {},
   "outputs": [
    {
     "name": "stdout",
     "output_type": "stream",
     "text": [
      "x : 14\n",
      "y : 7\n",
      "z : 32\n",
      "w : 9\n"
     ]
    }
   ],
   "source": [
    "for k,v in d.items():\n",
    "    print(k,':',v)"
   ]
  },
  {
   "cell_type": "code",
   "execution_count": 714,
   "metadata": {},
   "outputs": [
    {
     "name": "stdout",
     "output_type": "stream",
     "text": [
      "{'x': 14, 'z': 32, 'w': 9}\n"
     ]
    }
   ],
   "source": [
    "d.pop('y')\n",
    "print(d)"
   ]
  },
  {
   "cell_type": "code",
   "execution_count": 715,
   "metadata": {},
   "outputs": [
    {
     "name": "stdout",
     "output_type": "stream",
     "text": [
      "{'x': 14, 'z': 32}\n"
     ]
    }
   ],
   "source": [
    "d.popitem()\n",
    "print(d)"
   ]
  },
  {
   "cell_type": "code",
   "execution_count": 716,
   "metadata": {},
   "outputs": [
    {
     "name": "stdout",
     "output_type": "stream",
     "text": [
      "{}\n"
     ]
    }
   ],
   "source": [
    "d.clear()\n",
    "print(d)"
   ]
  },
  {
   "cell_type": "code",
   "execution_count": 717,
   "metadata": {},
   "outputs": [],
   "source": [
    "del d"
   ]
  },
  {
   "cell_type": "code",
   "execution_count": 718,
   "metadata": {},
   "outputs": [
    {
     "name": "stdout",
     "output_type": "stream",
     "text": [
      "{'x': 14, 'y': 7, 'z': 32, 'w': 9}\n",
      "[('y', 7), ('w', 9), ('x', 14), ('z', 32)]\n",
      "<class 'list'>\n"
     ]
    }
   ],
   "source": [
    "# sort dictionary with regard to values\n",
    "d = dict(x = 14, y = 7, z = 32, w = 9)\n",
    "print(d)\n",
    "import operator\n",
    "k = operator.itemgetter(1) # change 1 to 0 if you want sort with regard to keys\n",
    "print(sorted(d.items(), key = k))\n",
    "print(type(sorted(d.items(), key = k)))"
   ]
  },
  {
   "cell_type": "code",
   "execution_count": 719,
   "metadata": {},
   "outputs": [
    {
     "name": "stdout",
     "output_type": "stream",
     "text": [
      "{'x': 3, 'y': 2, 'z': 1, 'w': 8, 't': 8}\n",
      "{'x': 3, 'y': 2, 'z': 1, 'w': 8, 't': 8}\n"
     ]
    }
   ],
   "source": [
    "d1 = {'x': 3, 'y': 2, 'z': 1}\n",
    "d2 = {'w': 8, 't': 8}\n",
    "d = d1.copy()\n",
    "d.update(d2)\n",
    "print(d)\n",
    "\n",
    "#or\n",
    "d = {**d1, **d2}\n",
    "print(d)"
   ]
  },
  {
   "cell_type": "code",
   "execution_count": 720,
   "metadata": {},
   "outputs": [
    {
     "name": "stdout",
     "output_type": "stream",
     "text": [
      "{'a': 4, 'b': 8}\n"
     ]
    }
   ],
   "source": [
    "#convert 2 list to a dictionary\n",
    "k = ['a', 'b']\n",
    "v = [4, 8]\n",
    "z = zip(k,v)\n",
    "d = dict(z)\n",
    "print(d)"
   ]
  },
  {
   "cell_type": "code",
   "execution_count": 15,
   "metadata": {},
   "outputs": [
    {
     "name": "stdout",
     "output_type": "stream",
     "text": [
      "{'parent1': {'name': 'hassan', 'age': 74}, 'parent2': {'name': 'zahra', 'age': 70}}\n",
      "hassan\n",
      "{'name': 'zahra', 'age': 70}\n",
      "zahra\n"
     ]
    }
   ],
   "source": [
    "# nested dict\n",
    "my_family = {\n",
    "    'parent1': {'name': 'hassan', 'age': 74},\n",
    "    'parent2' : {'name': 'zahra', 'age': 70}\n",
    "}\n",
    "print(my_family)\n",
    "print(my_family['parent1']['name'])\n",
    "print(my_family.get('parent2'))\n",
    "print(my_family.get('parent2').get('name'))"
   ]
  },
  {
   "cell_type": "code",
   "execution_count": 722,
   "metadata": {},
   "outputs": [
    {
     "name": "stdout",
     "output_type": "stream",
     "text": [
      "{'name': 'ehsan', 'parents': ['hassan', 'mahrokh'], 'phone': {'home': '041-3385', 'mobile': '0914-418'}}\n",
      "3\n",
      "0914-418\n",
      "hassan\n"
     ]
    }
   ],
   "source": [
    "my_info = {\n",
    "    'name' : 'ehsan',\n",
    "    'parents': ['hassan', 'mahrokh'],\n",
    "    'phone': {'home': '041-3385', 'mobile': '0914-418'}\n",
    "}\n",
    "print(my_info)\n",
    "print(len(my_info))\n",
    "print(my_info['phone']['mobile'])\n",
    "print(my_info['parents'][0])"
   ]
  },
  {
   "cell_type": "markdown",
   "metadata": {},
   "source": [
    "## Set\n",
    "len, add, update, remove, discard, pop, copy, clear, intersection, union, difference, update, issubset, isdisjoint, ..."
   ]
  },
  {
   "cell_type": "code",
   "execution_count": 723,
   "metadata": {},
   "outputs": [
    {
     "name": "stdout",
     "output_type": "stream",
     "text": [
      "<class 'set'>\n",
      "4\n",
      "False\n"
     ]
    }
   ],
   "source": [
    "S = {'a', 'e', 'o', 'i'}\n",
    "print(type(S))\n",
    "print(len(S))\n",
    "print('u' in S)"
   ]
  },
  {
   "cell_type": "code",
   "execution_count": 724,
   "metadata": {},
   "outputs": [
    {
     "name": "stdout",
     "output_type": "stream",
     "text": [
      "{'i', 'o', 'u', 'a', 'e'}\n"
     ]
    }
   ],
   "source": [
    "S.add('u')\n",
    "print(S)"
   ]
  },
  {
   "cell_type": "code",
   "execution_count": 725,
   "metadata": {},
   "outputs": [
    {
     "name": "stdout",
     "output_type": "stream",
     "text": [
      "{'o', 'u', 'a', 'e'}\n"
     ]
    }
   ],
   "source": [
    "S.remove('i')\n",
    "print(S)"
   ]
  },
  {
   "cell_type": "code",
   "execution_count": 726,
   "metadata": {},
   "outputs": [
    {
     "name": "stdout",
     "output_type": "stream",
     "text": [
      "{'a', 'o', 'e', 'u'}\n"
     ]
    }
   ],
   "source": [
    "c = S.copy()\n",
    "print(c)"
   ]
  },
  {
   "cell_type": "code",
   "execution_count": 727,
   "metadata": {},
   "outputs": [
    {
     "name": "stdout",
     "output_type": "stream",
     "text": [
      "False\n"
     ]
    }
   ],
   "source": [
    "a = [1, 4]\n",
    "b = [4, 1]\n",
    "print(a == b)"
   ]
  },
  {
   "cell_type": "code",
   "execution_count": 728,
   "metadata": {},
   "outputs": [
    {
     "name": "stdout",
     "output_type": "stream",
     "text": [
      "True\n"
     ]
    }
   ],
   "source": [
    "a = {1, 2, 3}\n",
    "b = {3, 1, 2}\n",
    "print(a == b)"
   ]
  },
  {
   "cell_type": "code",
   "execution_count": 729,
   "metadata": {},
   "outputs": [
    {
     "name": "stdout",
     "output_type": "stream",
     "text": [
      "set()\n",
      "0\n"
     ]
    }
   ],
   "source": [
    "S.clear()\n",
    "print(S)\n",
    "print(len(S))"
   ]
  },
  {
   "cell_type": "code",
   "execution_count": 730,
   "metadata": {},
   "outputs": [
    {
     "name": "stdout",
     "output_type": "stream",
     "text": [
      "{2, 4}\n",
      "{2, 4}\n"
     ]
    }
   ],
   "source": [
    "x = {1, 2, 3, 4, 5}\n",
    "y = {2, 4}\n",
    "print(x.intersection(y))\n",
    "print(x & y)"
   ]
  },
  {
   "cell_type": "code",
   "execution_count": 731,
   "metadata": {},
   "outputs": [
    {
     "name": "stdout",
     "output_type": "stream",
     "text": [
      "{1, 2, 3, 4, 5}\n",
      "{1, 2, 3, 4, 5}\n"
     ]
    }
   ],
   "source": [
    "print(x.union(y))\n",
    "print(x | y)"
   ]
  },
  {
   "cell_type": "code",
   "execution_count": 732,
   "metadata": {},
   "outputs": [
    {
     "name": "stdout",
     "output_type": "stream",
     "text": [
      "{1, 3, 5}\n",
      "{1, 3, 5}\n"
     ]
    }
   ],
   "source": [
    "print(x.difference(y))\n",
    "print(x - y)"
   ]
  },
  {
   "cell_type": "code",
   "execution_count": 733,
   "metadata": {},
   "outputs": [
    {
     "name": "stdout",
     "output_type": "stream",
     "text": [
      "True\n"
     ]
    }
   ],
   "source": [
    "x = {'A', 'M'}\n",
    "y = {'A', 'C', 'M', 'F'}\n",
    "print(x.issubset(y))"
   ]
  },
  {
   "cell_type": "markdown",
   "metadata": {},
   "source": [
    "## Function define"
   ]
  },
  {
   "cell_type": "code",
   "execution_count": 734,
   "metadata": {},
   "outputs": [
    {
     "name": "stdout",
     "output_type": "stream",
     "text": [
      "khodapanah\n"
     ]
    }
   ],
   "source": [
    "def f():\n",
    "    print('khodapanah')\n",
    "f()"
   ]
  },
  {
   "cell_type": "code",
   "execution_count": 735,
   "metadata": {},
   "outputs": [
    {
     "name": "stdout",
     "output_type": "stream",
     "text": [
      "khodapanah\n"
     ]
    }
   ],
   "source": [
    "def g():\n",
    "    return('khodapanah')\n",
    "print(g())"
   ]
  },
  {
   "cell_type": "code",
   "execution_count": 736,
   "metadata": {},
   "outputs": [
    {
     "name": "stdout",
     "output_type": "stream",
     "text": [
      "khodapanah\n"
     ]
    }
   ],
   "source": [
    "def h(p):\n",
    "    print(p)\n",
    "h('khodapanah')"
   ]
  },
  {
   "cell_type": "code",
   "execution_count": 737,
   "metadata": {},
   "outputs": [
    {
     "name": "stdout",
     "output_type": "stream",
     "text": [
      "8\n"
     ]
    }
   ],
   "source": [
    "#find maxima\n",
    "def f(x,y):\n",
    "    if x>y:\n",
    "        return x\n",
    "    return y\n",
    "def g(x,y,z):\n",
    "    return f(x, f(y, z))\n",
    "print(g(3, 8, 2))"
   ]
  },
  {
   "cell_type": "code",
   "execution_count": 738,
   "metadata": {},
   "outputs": [
    {
     "name": "stdout",
     "output_type": "stream",
     "text": [
      "7\n",
      "3\n",
      "3\n"
     ]
    }
   ],
   "source": [
    "x = 7\n",
    "def func():\n",
    "    global x\n",
    "    print(x)\n",
    "    x = 3\n",
    "    print(x)\n",
    "func()\n",
    "print(x)"
   ]
  },
  {
   "cell_type": "code",
   "execution_count": 739,
   "metadata": {},
   "outputs": [
    {
     "name": "stdout",
     "output_type": "stream",
     "text": [
      "8 9\n"
     ]
    }
   ],
   "source": [
    "def f(a, b):\n",
    "    a *= 2\n",
    "    b += 3\n",
    "    return a, b\n",
    "x = 4\n",
    "y = 6\n",
    "m, n = f(x, y)\n",
    "print(m , n)"
   ]
  },
  {
   "cell_type": "code",
   "execution_count": 740,
   "metadata": {},
   "outputs": [
    {
     "name": "stdout",
     "output_type": "stream",
     "text": [
      "8\n",
      "3.0\n"
     ]
    }
   ],
   "source": [
    "def f(lst):\n",
    "    lst[0] *= 2\n",
    "    lst[1] /= 3\n",
    "a = [4, 9]\n",
    "f(a)\n",
    "print(a[0])\n",
    "print(a[1])"
   ]
  },
  {
   "cell_type": "code",
   "execution_count": 741,
   "metadata": {},
   "outputs": [
    {
     "name": "stdout",
     "output_type": "stream",
     "text": [
      "8\n",
      "3.0\n"
     ]
    }
   ],
   "source": [
    "def h(my_dict):\n",
    "    my_dict['x'] *= 2\n",
    "    my_dict['y'] /= 3\n",
    "d = {'x': 4, 'y': 9}\n",
    "h(d)\n",
    "print(d['x'])\n",
    "print(d['y'])"
   ]
  },
  {
   "cell_type": "code",
   "execution_count": 742,
   "metadata": {},
   "outputs": [
    {
     "name": "stdout",
     "output_type": "stream",
     "text": [
      "2\n",
      "1\n",
      "2\n",
      "None\n"
     ]
    }
   ],
   "source": [
    "def f(x):\n",
    "    x = x+1\n",
    "    print(x)\n",
    "a = 1\n",
    "f(a)\n",
    "print(a)\n",
    "print(f(a))"
   ]
  },
  {
   "cell_type": "code",
   "execution_count": 743,
   "metadata": {},
   "outputs": [
    {
     "name": "stdout",
     "output_type": "stream",
     "text": [
      "5 2\n",
      "5 2\n",
      "5 2\n",
      "5 2\n"
     ]
    }
   ],
   "source": [
    "def test(x, y):\n",
    "    print(x, y)\n",
    "\n",
    "test(5, 2)\n",
    "test(x = 5, y = 2)\n",
    "test(y = 2, x = 5)\n",
    "test(5, y = 2)"
   ]
  },
  {
   "cell_type": "code",
   "execution_count": 16,
   "metadata": {},
   "outputs": [
    {
     "name": "stdout",
     "output_type": "stream",
     "text": [
      "8\n",
      "2\n",
      "3\n"
     ]
    },
    {
     "ename": "TypeError",
     "evalue": "f() takes 0 positional arguments but 1 was given",
     "output_type": "error",
     "traceback": [
      "\u001b[1;31m---------------------------------------------------------------------------\u001b[0m",
      "\u001b[1;31mTypeError\u001b[0m                                 Traceback (most recent call last)",
      "\u001b[1;32m~\\AppData\\Local\\Temp/ipykernel_2844/1783315713.py\u001b[0m in \u001b[0;36m<module>\u001b[1;34m\u001b[0m\n\u001b[0;32m      4\u001b[0m \u001b[0mf\u001b[0m\u001b[1;33m(\u001b[0m\u001b[0mx\u001b[0m \u001b[1;33m=\u001b[0m \u001b[1;36m2\u001b[0m\u001b[1;33m)\u001b[0m\u001b[1;33m\u001b[0m\u001b[1;33m\u001b[0m\u001b[0m\n\u001b[0;32m      5\u001b[0m \u001b[0mf\u001b[0m\u001b[1;33m(\u001b[0m\u001b[0mx\u001b[0m \u001b[1;33m=\u001b[0m \u001b[1;36m3\u001b[0m\u001b[1;33m)\u001b[0m\u001b[1;33m\u001b[0m\u001b[1;33m\u001b[0m\u001b[0m\n\u001b[1;32m----> 6\u001b[1;33m \u001b[0mf\u001b[0m\u001b[1;33m(\u001b[0m\u001b[1;36m3\u001b[0m\u001b[1;33m)\u001b[0m\u001b[1;33m\u001b[0m\u001b[1;33m\u001b[0m\u001b[0m\n\u001b[0m",
      "\u001b[1;31mTypeError\u001b[0m: f() takes 0 positional arguments but 1 was given"
     ]
    }
   ],
   "source": [
    "def f(*, x :int = 8) -> None:\n",
    "    print(x)\n",
    "f()\n",
    "f(x = 2)\n",
    "f(x = 3)\n",
    "f(3)"
   ]
  },
  {
   "cell_type": "code",
   "execution_count": 745,
   "metadata": {},
   "outputs": [
    {
     "name": "stdout",
     "output_type": "stream",
     "text": [
      "14\n",
      "34\n",
      "8\n"
     ]
    }
   ],
   "source": [
    "def add_more(a, b, *c):\n",
    "    print(a + b + sum(c))\n",
    "\n",
    "add_more(5, 2, 7)\n",
    "add_more(5, 2, 7, 8, 12)\n",
    "add_more(2, 6)"
   ]
  },
  {
   "cell_type": "code",
   "execution_count": 746,
   "metadata": {},
   "outputs": [
    {
     "name": "stdout",
     "output_type": "stream",
     "text": [
      "ali.reza\n",
      "ali/reza/sara\n"
     ]
    }
   ],
   "source": [
    "def f(*x, y = '.'):\n",
    "    return y.join(x)\n",
    "print(f('ali', 'reza'))\n",
    "print(f('ali', 'reza', 'sara', y = '/'))"
   ]
  },
  {
   "cell_type": "code",
   "execution_count": 747,
   "metadata": {},
   "outputs": [
    {
     "name": "stdout",
     "output_type": "stream",
     "text": [
      "5 7 9\n",
      "1 4 9\n"
     ]
    }
   ],
   "source": [
    "def test(a, *, b = 7, c = 9):\n",
    "    print(a, b, c)\n",
    "test(5)\n",
    "test(1, b = 4)\n",
    "# test(1, b = 2, 6)\n",
    "# test(1, 3, c= 4)"
   ]
  },
  {
   "cell_type": "code",
   "execution_count": 748,
   "metadata": {},
   "outputs": [
    {
     "name": "stdout",
     "output_type": "stream",
     "text": [
      "3\n",
      "4\n",
      "(7, 1, 6)\n",
      "{'x': 5, 'y': 7, 'z': 9}\n"
     ]
    }
   ],
   "source": [
    "def f(a, b, *c, **d): \n",
    "    print(a)\n",
    "    print(b)\n",
    "    print(c)\n",
    "    print(d)\n",
    "    \n",
    "f(3, 4, 7, 1, 6, x = 5, y = 7, z = 9)"
   ]
  },
  {
   "cell_type": "code",
   "execution_count": 749,
   "metadata": {},
   "outputs": [
    {
     "name": "stdout",
     "output_type": "stream",
     "text": [
      "{'a': 2, 'b': 3, 'c': 1, 'f': 1}\n"
     ]
    }
   ],
   "source": [
    "def count_char(s):\n",
    "    d = {}\n",
    "    for i in s:\n",
    "        if i in d.keys():\n",
    "            d[i] += 1\n",
    "        else:\n",
    "            d[i] = 1\n",
    "    return d\n",
    "print(count_char('abbcfab'))"
   ]
  },
  {
   "cell_type": "code",
   "execution_count": 751,
   "metadata": {},
   "outputs": [
    {
     "name": "stdout",
     "output_type": "stream",
     "text": [
      "[1, 2, 3, 4]\n"
     ]
    }
   ],
   "source": [
    "a = [1, 2, 3, 1, 4, 2]\n",
    "def unique_list(lst):\n",
    "    r = []\n",
    "    for i in lst:\n",
    "        if i not in r:\n",
    "            r.append(i)\n",
    "    return r\n",
    "print(unique_list(a))"
   ]
  },
  {
   "cell_type": "code",
   "execution_count": 752,
   "metadata": {},
   "outputs": [
    {
     "name": "stdout",
     "output_type": "stream",
     "text": [
      "[1, 2, 3, 4]\n"
     ]
    }
   ],
   "source": [
    "def unique_list2(lst):\n",
    "    return list(set(lst))\n",
    "print(unique_list2(a))"
   ]
  },
  {
   "cell_type": "markdown",
   "metadata": {},
   "source": [
    "## PEP 484 standard for Functions"
   ]
  },
  {
   "cell_type": "code",
   "execution_count": 753,
   "metadata": {},
   "outputs": [
    {
     "name": "stdout",
     "output_type": "stream",
     "text": [
      "Hello ehsan\n"
     ]
    }
   ],
   "source": [
    "def greeting(name: str) -> str:\n",
    "    return 'Hello ' + name\n",
    "print(greeting('ehsan'))"
   ]
  },
  {
   "cell_type": "code",
   "execution_count": 754,
   "metadata": {},
   "outputs": [
    {
     "name": "stdout",
     "output_type": "stream",
     "text": [
      "5\n"
     ]
    }
   ],
   "source": [
    "def add(x: int, y: int) -> int:\n",
    "    '''\n",
    "    sum of two intiger number\n",
    "    '''\n",
    "    print(x + y)\n",
    "add(2, 3)"
   ]
  },
  {
   "cell_type": "code",
   "execution_count": 755,
   "metadata": {},
   "outputs": [
    {
     "name": "stdout",
     "output_type": "stream",
     "text": [
      "{'x': <class 'int'>, 'y': <class 'int'>, 'return': <class 'int'>}\n"
     ]
    }
   ],
   "source": [
    "print(add.__annotations__)"
   ]
  },
  {
   "cell_type": "code",
   "execution_count": 756,
   "metadata": {},
   "outputs": [
    {
     "name": "stdout",
     "output_type": "stream",
     "text": [
      "\n",
      "    sum of two intiger number\n",
      "    \n"
     ]
    }
   ],
   "source": [
    "print(add.__doc__)"
   ]
  },
  {
   "cell_type": "markdown",
   "metadata": {},
   "source": [
    "## Recursive Functions"
   ]
  },
  {
   "cell_type": "code",
   "execution_count": 17,
   "metadata": {},
   "outputs": [
    {
     "data": {
      "text/plain": [
       "'\\niterative:\\n            n! = 1*2*3*...*n\\n            \\nrecursive:\\n            n! = n * (n-1)!\\n            1! = 1\\n\\n4! = 4 * 3! = 4 * 6 = 24\\n3! = 3 * 2! = 3 * 2 = 6\\n2! = 2 * 1! = 2 * 1 = 2\\n1! = 1\\n\\n'"
      ]
     },
     "execution_count": 17,
     "metadata": {},
     "output_type": "execute_result"
    }
   ],
   "source": [
    "'''\n",
    "iterative:\n",
    "            n! = 1*2*3*...*n\n",
    "            \n",
    "recursive:\n",
    "            n! = n * (n-1)!\n",
    "            1! = 1\n",
    "\n",
    "4! = 4 * 3! = 4 * 6 = 24\n",
    "3! = 3 * 2! = 3 * 2 = 6\n",
    "2! = 2 * 1! = 2 * 1 = 2\n",
    "1! = 1\n",
    "\n",
    "'''"
   ]
  },
  {
   "cell_type": "code",
   "execution_count": 757,
   "metadata": {},
   "outputs": [
    {
     "name": "stdout",
     "output_type": "stream",
     "text": [
      "24\n"
     ]
    }
   ],
   "source": [
    "def fact_recursive(n):\n",
    "    if n == 1:\n",
    "        return 1\n",
    "    else:\n",
    "        return n * fact_recursive(n-1)\n",
    "print(fact_recursive(4))"
   ]
  },
  {
   "cell_type": "code",
   "execution_count": 758,
   "metadata": {},
   "outputs": [
    {
     "name": "stdout",
     "output_type": "stream",
     "text": [
      "19\n"
     ]
    },
    {
     "data": {
      "text/plain": [
       "'\\nf(25, 16) = f(1, 16) + s[9] = 1 + 9 = 19\\nf(1, 16) = s[1] = 1\\n'"
      ]
     },
     "execution_count": 758,
     "metadata": {},
     "output_type": "execute_result"
    }
   ],
   "source": [
    "def f(n, base):\n",
    "    s = '0123456789ABCDEF'\n",
    "    if n < base:\n",
    "        return s[n]\n",
    "    else:\n",
    "        return f(n // base, base) + s[n % base]\n",
    "print(f(25, 16))\n",
    "'''\n",
    "f(25, 16) = f(1, 16) + s[9] = 1 + 9 = 19\n",
    "f(1, 16) = s[1] = 1\n",
    "'''"
   ]
  },
  {
   "cell_type": "code",
   "execution_count": 759,
   "metadata": {},
   "outputs": [
    {
     "name": "stdout",
     "output_type": "stream",
     "text": [
      "1000\n"
     ]
    }
   ],
   "source": [
    "print(f(8, 2))"
   ]
  },
  {
   "cell_type": "code",
   "execution_count": 761,
   "metadata": {},
   "outputs": [
    {
     "name": "stdout",
     "output_type": "stream",
     "text": [
      "4\n",
      "1\n",
      "False\n",
      "4\n"
     ]
    }
   ],
   "source": [
    "def binary_search(lst: list, x:int, start:int = 0, end: int = None):\n",
    "    if end is None:\n",
    "        end = len(lst) - 1\n",
    "    if start > end:\n",
    "        return False\n",
    "    mid = (start + end) // 2\n",
    "    if x == lst[mid]:\n",
    "        return mid\n",
    "    if x < lst[mid]:\n",
    "        return binary_search(lst, x, start, mid - 1)\n",
    "    return binary_search(lst, x, mid + 1, end)\n",
    "\n",
    "a = [2, 4, 7, 12, 19, 25, 38]\n",
    "print(binary_search(a, 19))\n",
    "print(binary_search(a, 4))\n",
    "print(binary_search(a, 40))\n",
    "print(a.index(19))"
   ]
  },
  {
   "cell_type": "markdown",
   "metadata": {},
   "source": [
    "## Lambda Function\n",
    "instead of using def keyword to define functions we could use lambda to define 1 row functions."
   ]
  },
  {
   "cell_type": "code",
   "execution_count": 763,
   "metadata": {},
   "outputs": [
    {
     "name": "stdout",
     "output_type": "stream",
     "text": [
      "6\n"
     ]
    }
   ],
   "source": [
    "add = lambda x, y : x* y\n",
    "print(add(2, 3))"
   ]
  },
  {
   "cell_type": "markdown",
   "metadata": {},
   "source": [
    "## Map Function\n",
    "function returns a map object(which is an iterator) of the results after applying the given function to each item of a given iterable (list, tuple etc.)"
   ]
  },
  {
   "cell_type": "code",
   "execution_count": 767,
   "metadata": {},
   "outputs": [
    {
     "name": "stdout",
     "output_type": "stream",
     "text": [
      "['ali', 'reza']\n"
     ]
    }
   ],
   "source": [
    "lst = ['ALI', 'REZA']\n",
    "a = list()\n",
    "for i in lst:\n",
    "    x = i.lower()\n",
    "    a.append(x)\n",
    "print(a)"
   ]
  },
  {
   "cell_type": "code",
   "execution_count": 768,
   "metadata": {},
   "outputs": [
    {
     "name": "stdout",
     "output_type": "stream",
     "text": [
      "['ali', 'reza']\n"
     ]
    }
   ],
   "source": [
    "print(list(map(str.lower, lst)))"
   ]
  },
  {
   "cell_type": "code",
   "execution_count": 769,
   "metadata": {},
   "outputs": [
    {
     "name": "stdout",
     "output_type": "stream",
     "text": [
      "[('ehsan', 20), ('saeed', 16)]\n"
     ]
    }
   ],
   "source": [
    "a = ['ehsan', 'saeed']\n",
    "b = [20, 16]\n",
    "print(list(zip(a,b)))"
   ]
  },
  {
   "cell_type": "code",
   "execution_count": 770,
   "metadata": {},
   "outputs": [
    {
     "name": "stdout",
     "output_type": "stream",
     "text": [
      "[('ehsan', 20), ('saeed', 16)]\n"
     ]
    }
   ],
   "source": [
    "print(list(map(lambda x, y: (x, y), a, b)))"
   ]
  },
  {
   "cell_type": "code",
   "execution_count": 771,
   "metadata": {},
   "outputs": [
    {
     "name": "stdout",
     "output_type": "stream",
     "text": [
      "[3, 7]\n"
     ]
    }
   ],
   "source": [
    "a = [1, 3]\n",
    "b = [2, 4]\n",
    "print(list(map(lambda x, y: (x+y), a, b)))"
   ]
  },
  {
   "cell_type": "code",
   "execution_count": 772,
   "metadata": {},
   "outputs": [
    {
     "name": "stdout",
     "output_type": "stream",
     "text": [
      "[False, True, False, True]\n"
     ]
    }
   ],
   "source": [
    "a = [16, 7, 14, 6]\n",
    "print(list(map(lambda x: x<10, a)))"
   ]
  },
  {
   "cell_type": "markdown",
   "metadata": {},
   "source": [
    "### If we want to see the result in not true & false"
   ]
  },
  {
   "cell_type": "code",
   "execution_count": 773,
   "metadata": {},
   "outputs": [
    {
     "name": "stdout",
     "output_type": "stream",
     "text": [
      "[7, 6]\n"
     ]
    }
   ],
   "source": [
    "a = [16, 7, 14, 6]\n",
    "print(list(filter(lambda x: x<10, a)))"
   ]
  },
  {
   "cell_type": "code",
   "execution_count": 774,
   "metadata": {},
   "outputs": [
    {
     "name": "stdout",
     "output_type": "stream",
     "text": [
      "[16, 7, 6, 18]\n"
     ]
    }
   ],
   "source": [
    "# show not None values in list of\n",
    "a = [16, 7, '', 6, '', 18]\n",
    "print(list(filter(None, a)))"
   ]
  },
  {
   "cell_type": "code",
   "execution_count": null,
   "metadata": {},
   "outputs": [],
   "source": []
  }
 ],
 "metadata": {
  "interpreter": {
   "hash": "97ae724bfa85b9b34df7982b8bb8c7216f435b92902d749e4263f71162bea840"
  },
  "kernelspec": {
   "display_name": "Python 3.8.11 64-bit ('base': conda)",
   "name": "python3"
  },
  "language_info": {
   "codemirror_mode": {
    "name": "ipython",
    "version": 3
   },
   "file_extension": ".py",
   "mimetype": "text/x-python",
   "name": "python",
   "nbconvert_exporter": "python",
   "pygments_lexer": "ipython3",
   "version": "3.9.0"
  },
  "orig_nbformat": 4
 },
 "nbformat": 4,
 "nbformat_minor": 2
}
